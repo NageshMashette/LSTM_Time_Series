{
 "cells": [
  {
   "cell_type": "markdown",
   "id": "cc99d4b0",
   "metadata": {},
   "source": [
    "## LSTM Time Series"
   ]
  },
  {
   "cell_type": "code",
   "execution_count": 18,
   "id": "efaec20a",
   "metadata": {},
   "outputs": [],
   "source": [
    "import numpy as np\n",
    "from keras.models import Sequential\n",
    "from keras.layers import Dense, LSTM"
   ]
  },
  {
   "cell_type": "code",
   "execution_count": 19,
   "id": "902d8590",
   "metadata": {},
   "outputs": [],
   "source": [
    "# Generate sample data\n",
    "t = np.linspace(0, 10*np.pi, 50)\n",
    "data = np.sin(t)"
   ]
  },
  {
   "cell_type": "code",
   "execution_count": 20,
   "id": "3fa7c92e",
   "metadata": {},
   "outputs": [],
   "source": [
    "# Split data into input and output components\n",
    "window_size = 10\n",
    "X = []\n",
    "y = []\n",
    "for i in range(len(data)-window_size):\n",
    "    X.append(data[i:i+window_size])\n",
    "    y.append(data[i+window_size])\n",
    "X = np.array(X)\n",
    "y = np.array(y)"
   ]
  },
  {
   "cell_type": "code",
   "execution_count": 21,
   "id": "c3c057e7",
   "metadata": {},
   "outputs": [],
   "source": [
    "# Define LSTM model\n",
    "model = Sequential()\n",
    "model.add(LSTM(4, input_shape=(window_size, 1)))\n",
    "model.add(Dense(1))\n",
    "model.compile(loss='mean_squared_error', optimizer='adam')"
   ]
  },
  {
   "cell_type": "code",
   "execution_count": 22,
   "id": "db993513",
   "metadata": {},
   "outputs": [
    {
     "name": "stdout",
     "output_type": "stream",
     "text": [
      "Epoch 1/100\n",
      "40/40 - 1s - loss: 0.5019 - 1s/epoch - 34ms/step\n",
      "Epoch 2/100\n",
      "40/40 - 0s - loss: 0.4936 - 91ms/epoch - 2ms/step\n",
      "Epoch 3/100\n",
      "40/40 - 0s - loss: 0.4851 - 83ms/epoch - 2ms/step\n",
      "Epoch 4/100\n",
      "40/40 - 0s - loss: 0.4762 - 81ms/epoch - 2ms/step\n",
      "Epoch 5/100\n",
      "40/40 - 0s - loss: 0.4678 - 80ms/epoch - 2ms/step\n",
      "Epoch 6/100\n",
      "40/40 - 0s - loss: 0.4606 - 84ms/epoch - 2ms/step\n",
      "Epoch 7/100\n",
      "40/40 - 0s - loss: 0.4486 - 73ms/epoch - 2ms/step\n",
      "Epoch 8/100\n",
      "40/40 - 0s - loss: 0.4365 - 75ms/epoch - 2ms/step\n",
      "Epoch 9/100\n",
      "40/40 - 0s - loss: 0.4226 - 101ms/epoch - 3ms/step\n",
      "Epoch 10/100\n",
      "40/40 - 0s - loss: 0.4048 - 103ms/epoch - 3ms/step\n",
      "Epoch 11/100\n",
      "40/40 - 0s - loss: 0.3842 - 97ms/epoch - 2ms/step\n",
      "Epoch 12/100\n",
      "40/40 - 0s - loss: 0.3545 - 74ms/epoch - 2ms/step\n",
      "Epoch 13/100\n",
      "40/40 - 0s - loss: 0.3194 - 82ms/epoch - 2ms/step\n",
      "Epoch 14/100\n",
      "40/40 - 0s - loss: 0.2778 - 84ms/epoch - 2ms/step\n",
      "Epoch 15/100\n",
      "40/40 - 0s - loss: 0.2288 - 83ms/epoch - 2ms/step\n",
      "Epoch 16/100\n",
      "40/40 - 0s - loss: 0.1811 - 77ms/epoch - 2ms/step\n",
      "Epoch 17/100\n",
      "40/40 - 0s - loss: 0.1318 - 81ms/epoch - 2ms/step\n",
      "Epoch 18/100\n",
      "40/40 - 0s - loss: 0.0906 - 84ms/epoch - 2ms/step\n",
      "Epoch 19/100\n",
      "40/40 - 0s - loss: 0.0556 - 82ms/epoch - 2ms/step\n",
      "Epoch 20/100\n",
      "40/40 - 0s - loss: 0.0326 - 83ms/epoch - 2ms/step\n",
      "Epoch 21/100\n",
      "40/40 - 0s - loss: 0.0172 - 82ms/epoch - 2ms/step\n",
      "Epoch 22/100\n",
      "40/40 - 0s - loss: 0.0087 - 86ms/epoch - 2ms/step\n",
      "Epoch 23/100\n",
      "40/40 - 0s - loss: 0.0041 - 96ms/epoch - 2ms/step\n",
      "Epoch 24/100\n",
      "40/40 - 0s - loss: 0.0019 - 85ms/epoch - 2ms/step\n",
      "Epoch 25/100\n",
      "40/40 - 0s - loss: 9.2646e-04 - 76ms/epoch - 2ms/step\n",
      "Epoch 26/100\n",
      "40/40 - 0s - loss: 5.7066e-04 - 84ms/epoch - 2ms/step\n",
      "Epoch 27/100\n",
      "40/40 - 0s - loss: 4.1695e-04 - 83ms/epoch - 2ms/step\n",
      "Epoch 28/100\n",
      "40/40 - 0s - loss: 3.4461e-04 - 93ms/epoch - 2ms/step\n",
      "Epoch 29/100\n",
      "40/40 - 0s - loss: 3.1741e-04 - 87ms/epoch - 2ms/step\n",
      "Epoch 30/100\n",
      "40/40 - 0s - loss: 3.1056e-04 - 83ms/epoch - 2ms/step\n",
      "Epoch 31/100\n",
      "40/40 - 0s - loss: 2.9029e-04 - 82ms/epoch - 2ms/step\n",
      "Epoch 32/100\n",
      "40/40 - 0s - loss: 2.9049e-04 - 85ms/epoch - 2ms/step\n",
      "Epoch 33/100\n",
      "40/40 - 0s - loss: 2.8071e-04 - 83ms/epoch - 2ms/step\n",
      "Epoch 34/100\n",
      "40/40 - 0s - loss: 2.6373e-04 - 90ms/epoch - 2ms/step\n",
      "Epoch 35/100\n",
      "40/40 - 0s - loss: 2.5856e-04 - 93ms/epoch - 2ms/step\n",
      "Epoch 36/100\n",
      "40/40 - 0s - loss: 2.5317e-04 - 84ms/epoch - 2ms/step\n",
      "Epoch 37/100\n",
      "40/40 - 0s - loss: 2.3038e-04 - 90ms/epoch - 2ms/step\n",
      "Epoch 38/100\n",
      "40/40 - 0s - loss: 2.2593e-04 - 99ms/epoch - 2ms/step\n",
      "Epoch 39/100\n",
      "40/40 - 0s - loss: 2.1894e-04 - 102ms/epoch - 3ms/step\n",
      "Epoch 40/100\n",
      "40/40 - 0s - loss: 2.0987e-04 - 85ms/epoch - 2ms/step\n",
      "Epoch 41/100\n",
      "40/40 - 0s - loss: 1.9674e-04 - 83ms/epoch - 2ms/step\n",
      "Epoch 42/100\n",
      "40/40 - 0s - loss: 1.8467e-04 - 82ms/epoch - 2ms/step\n",
      "Epoch 43/100\n",
      "40/40 - 0s - loss: 1.7248e-04 - 84ms/epoch - 2ms/step\n",
      "Epoch 44/100\n",
      "40/40 - 0s - loss: 1.6870e-04 - 83ms/epoch - 2ms/step\n",
      "Epoch 45/100\n",
      "40/40 - 0s - loss: 1.5538e-04 - 89ms/epoch - 2ms/step\n",
      "Epoch 46/100\n",
      "40/40 - 0s - loss: 1.6247e-04 - 91ms/epoch - 2ms/step\n",
      "Epoch 47/100\n",
      "40/40 - 0s - loss: 1.4300e-04 - 75ms/epoch - 2ms/step\n",
      "Epoch 48/100\n",
      "40/40 - 0s - loss: 1.3332e-04 - 83ms/epoch - 2ms/step\n",
      "Epoch 49/100\n",
      "40/40 - 0s - loss: 1.3604e-04 - 82ms/epoch - 2ms/step\n",
      "Epoch 50/100\n",
      "40/40 - 0s - loss: 1.2262e-04 - 83ms/epoch - 2ms/step\n",
      "Epoch 51/100\n",
      "40/40 - 0s - loss: 1.1604e-04 - 86ms/epoch - 2ms/step\n",
      "Epoch 52/100\n",
      "40/40 - 0s - loss: 1.1536e-04 - 85ms/epoch - 2ms/step\n",
      "Epoch 53/100\n",
      "40/40 - 0s - loss: 1.0975e-04 - 74ms/epoch - 2ms/step\n",
      "Epoch 54/100\n",
      "40/40 - 0s - loss: 1.0382e-04 - 82ms/epoch - 2ms/step\n",
      "Epoch 55/100\n",
      "40/40 - 0s - loss: 8.9515e-05 - 74ms/epoch - 2ms/step\n",
      "Epoch 56/100\n",
      "40/40 - 0s - loss: 9.0396e-05 - 72ms/epoch - 2ms/step\n",
      "Epoch 57/100\n",
      "40/40 - 0s - loss: 8.5147e-05 - 71ms/epoch - 2ms/step\n",
      "Epoch 58/100\n",
      "40/40 - 0s - loss: 7.8317e-05 - 84ms/epoch - 2ms/step\n",
      "Epoch 59/100\n",
      "40/40 - 0s - loss: 7.4637e-05 - 82ms/epoch - 2ms/step\n",
      "Epoch 60/100\n",
      "40/40 - 0s - loss: 7.1690e-05 - 72ms/epoch - 2ms/step\n",
      "Epoch 61/100\n",
      "40/40 - 0s - loss: 6.5547e-05 - 70ms/epoch - 2ms/step\n",
      "Epoch 62/100\n",
      "40/40 - 0s - loss: 6.2475e-05 - 72ms/epoch - 2ms/step\n",
      "Epoch 63/100\n",
      "40/40 - 0s - loss: 6.1961e-05 - 71ms/epoch - 2ms/step\n",
      "Epoch 64/100\n",
      "40/40 - 0s - loss: 5.3558e-05 - 71ms/epoch - 2ms/step\n",
      "Epoch 65/100\n",
      "40/40 - 0s - loss: 5.1941e-05 - 73ms/epoch - 2ms/step\n",
      "Epoch 66/100\n",
      "40/40 - 0s - loss: 5.3628e-05 - 72ms/epoch - 2ms/step\n",
      "Epoch 67/100\n",
      "40/40 - 0s - loss: 5.0554e-05 - 70ms/epoch - 2ms/step\n",
      "Epoch 68/100\n",
      "40/40 - 0s - loss: 4.5835e-05 - 74ms/epoch - 2ms/step\n",
      "Epoch 69/100\n",
      "40/40 - 0s - loss: 4.6275e-05 - 80ms/epoch - 2ms/step\n",
      "Epoch 70/100\n",
      "40/40 - 0s - loss: 4.2783e-05 - 71ms/epoch - 2ms/step\n",
      "Epoch 71/100\n",
      "40/40 - 0s - loss: 4.4548e-05 - 74ms/epoch - 2ms/step\n",
      "Epoch 72/100\n",
      "40/40 - 0s - loss: 3.9733e-05 - 82ms/epoch - 2ms/step\n",
      "Epoch 73/100\n",
      "40/40 - 0s - loss: 3.9911e-05 - 74ms/epoch - 2ms/step\n",
      "Epoch 74/100\n",
      "40/40 - 0s - loss: 3.8492e-05 - 72ms/epoch - 2ms/step\n",
      "Epoch 75/100\n",
      "40/40 - 0s - loss: 3.8550e-05 - 73ms/epoch - 2ms/step\n",
      "Epoch 76/100\n",
      "40/40 - 0s - loss: 3.5765e-05 - 71ms/epoch - 2ms/step\n",
      "Epoch 77/100\n",
      "40/40 - 0s - loss: 3.5139e-05 - 73ms/epoch - 2ms/step\n",
      "Epoch 78/100\n",
      "40/40 - 0s - loss: 3.2602e-05 - 71ms/epoch - 2ms/step\n",
      "Epoch 79/100\n",
      "40/40 - 0s - loss: 3.2694e-05 - 74ms/epoch - 2ms/step\n",
      "Epoch 80/100\n",
      "40/40 - 0s - loss: 3.1648e-05 - 74ms/epoch - 2ms/step\n",
      "Epoch 81/100\n",
      "40/40 - 0s - loss: 3.4435e-05 - 70ms/epoch - 2ms/step\n",
      "Epoch 82/100\n",
      "40/40 - 0s - loss: 2.8761e-05 - 78ms/epoch - 2ms/step\n",
      "Epoch 83/100\n",
      "40/40 - 0s - loss: 4.2265e-05 - 74ms/epoch - 2ms/step\n",
      "Epoch 84/100\n",
      "40/40 - 0s - loss: 3.0036e-05 - 73ms/epoch - 2ms/step\n",
      "Epoch 85/100\n",
      "40/40 - 0s - loss: 3.7893e-05 - 85ms/epoch - 2ms/step\n",
      "Epoch 86/100\n",
      "40/40 - 0s - loss: 3.0554e-05 - 77ms/epoch - 2ms/step\n",
      "Epoch 87/100\n",
      "40/40 - 0s - loss: 2.9225e-05 - 73ms/epoch - 2ms/step\n",
      "Epoch 88/100\n",
      "40/40 - 0s - loss: 3.1502e-05 - 71ms/epoch - 2ms/step\n",
      "Epoch 89/100\n",
      "40/40 - 0s - loss: 3.0191e-05 - 73ms/epoch - 2ms/step\n",
      "Epoch 90/100\n",
      "40/40 - 0s - loss: 3.1040e-05 - 71ms/epoch - 2ms/step\n",
      "Epoch 91/100\n",
      "40/40 - 0s - loss: 2.8913e-05 - 72ms/epoch - 2ms/step\n",
      "Epoch 92/100\n",
      "40/40 - 0s - loss: 3.2224e-05 - 73ms/epoch - 2ms/step\n",
      "Epoch 93/100\n",
      "40/40 - 0s - loss: 3.0290e-05 - 74ms/epoch - 2ms/step\n",
      "Epoch 94/100\n",
      "40/40 - 0s - loss: 2.9340e-05 - 73ms/epoch - 2ms/step\n",
      "Epoch 95/100\n",
      "40/40 - 0s - loss: 3.1485e-05 - 71ms/epoch - 2ms/step\n",
      "Epoch 96/100\n",
      "40/40 - 0s - loss: 3.3120e-05 - 71ms/epoch - 2ms/step\n",
      "Epoch 97/100\n",
      "40/40 - 0s - loss: 3.4840e-05 - 73ms/epoch - 2ms/step\n",
      "Epoch 98/100\n",
      "40/40 - 0s - loss: 3.0647e-05 - 87ms/epoch - 2ms/step\n",
      "Epoch 99/100\n",
      "40/40 - 0s - loss: 2.7297e-05 - 83ms/epoch - 2ms/step\n",
      "Epoch 100/100\n",
      "40/40 - 0s - loss: 3.3206e-05 - 95ms/epoch - 2ms/step\n"
     ]
    },
    {
     "data": {
      "text/plain": [
       "<keras.callbacks.History at 0x1a011b29c70>"
      ]
     },
     "execution_count": 22,
     "metadata": {},
     "output_type": "execute_result"
    }
   ],
   "source": [
    "# Train LSTM model\n",
    "model.fit(X.reshape((X.shape[0], X.shape[1], 1)), y, epochs=100, batch_size=1, verbose=2)"
   ]
  },
  {
   "cell_type": "code",
   "execution_count": 23,
   "id": "981e0723",
   "metadata": {},
   "outputs": [
    {
     "name": "stdout",
     "output_type": "stream",
     "text": [
      "1/1 [==============================] - 0s 371ms/step\n"
     ]
    }
   ],
   "source": [
    "# Generate predictions for new data\n",
    "new_data = np.sin(np.linspace(10*np.pi, 12*np.pi, 20))\n",
    "X_new = []\n",
    "for i in range(len(new_data)-window_size):\n",
    "    X_new.append(new_data[i:i+window_size])\n",
    "X_new = np.array(X_new)\n",
    "y_new = model.predict(X_new.reshape((X_new.shape[0], X_new.shape[1], 1)))\n"
   ]
  },
  {
   "cell_type": "code",
   "execution_count": 24,
   "id": "0bf3f22c",
   "metadata": {},
   "outputs": [
    {
     "data": {
      "text/plain": [
       "array([[-1.1346812 ],\n",
       "       [-1.0626155 ],\n",
       "       [-0.86186814],\n",
       "       [-0.5497761 ],\n",
       "       [-0.16259661],\n",
       "       [ 0.16164617],\n",
       "       [ 0.38440925],\n",
       "       [ 0.5819652 ],\n",
       "       [ 0.7193385 ],\n",
       "       [ 0.80653393]], dtype=float32)"
      ]
     },
     "execution_count": 24,
     "metadata": {},
     "output_type": "execute_result"
    }
   ],
   "source": [
    "y_new"
   ]
  },
  {
   "cell_type": "code",
   "execution_count": 26,
   "id": "6a9506d2",
   "metadata": {},
   "outputs": [
    {
     "data": {
      "image/png": "[encoded data removed]",
      "text/plain": [
       "<Figure size 432x288 with 1 Axes>"
      ]
     },
     "metadata": {
      "needs_background": "light"
     },
     "output_type": "display_data"
    }
   ],
   "source": [
    "actual_data = np.sin(np.linspace(0, 10*np.pi, 50))\n",
    "predicted_data = np.cos(np.linspace(0, 10*np.pi, 50))\n",
    "\n",
    "# Plot the actual vs predicted data\n",
    "import matplotlib.pyplot as plt\n",
    "plt.plot(actual_data, label='Actual')\n",
    "plt.plot(predicted_data, label='Predicted')\n",
    "plt.legend()\n",
    "plt.show()"
   ]
  },
  {
   "cell_type": "code",
   "execution_count": null,
   "id": "dd9490fc",
   "metadata": {},
   "outputs": [],
   "source": []
  }
 ],
 "metadata": {
  "kernelspec": {
   "display_name": "Python 3 (ipykernel)",
   "language": "python",
   "name": "python3"
  },
  "language_info": {
   "codemirror_mode": {
    "name": "ipython",
    "version": 3
   },
   "file_extension": ".py",
   "mimetype": "text/x-python",
   "name": "python",
   "nbconvert_exporter": "python",
   "pygments_lexer": "ipython3",
   "version": "3.9.12"
  }
 },
 "nbformat": 4,
 "nbformat_minor": 5
}
